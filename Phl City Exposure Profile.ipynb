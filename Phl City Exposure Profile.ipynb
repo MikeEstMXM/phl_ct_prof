{
 "cells": [
  {
   "cell_type": "code",
   "execution_count": 114,
   "id": "f61f65af",
   "metadata": {},
   "outputs": [],
   "source": [
    "# aideveloper\n",
    "# Municipality Locator v1.0 - Find closest municipalities in the Philippines\n",
    "import requests\n",
    "import pandas as pd\n",
    "import numpy as np\n",
    "import folium"
   ]
  },
  {
   "cell_type": "code",
   "execution_count": 115,
   "id": "1feb4171",
   "metadata": {},
   "outputs": [],
   "source": [
    "from OSMPythonTools.overpass import Overpass\n",
    "ovp = Overpass()"
   ]
  },
  {
   "cell_type": "code",
   "execution_count": 116,
   "id": "d1099312",
   "metadata": {},
   "outputs": [],
   "source": [
    "import overpass\n",
    "import geopandas as gpd"
   ]
  },
  {
   "cell_type": "code",
   "execution_count": 117,
   "id": "4d476455",
   "metadata": {},
   "outputs": [],
   "source": [
    "import os\n",
    "import json\n",
    "import collections"
   ]
  },
  {
   "cell_type": "code",
   "execution_count": 118,
   "id": "0d5816a9",
   "metadata": {},
   "outputs": [],
   "source": [
    "import cartopy.crs as ccrs\n",
    "import cartopy.feature as cfeature\n",
    "from rasterio.plot import show\n",
    "import rasterio\n",
    "import matplotlib.pyplot as plt\n",
    "import matplotlib.colors as mcolors"
   ]
  },
  {
   "cell_type": "code",
   "execution_count": 119,
   "id": "420a5a55",
   "metadata": {},
   "outputs": [],
   "source": [
    "def search_municipalities(query):\n",
    "    # Search OpenStreetMap for municipalities in the Philippines\n",
    "    base_url = \"https://nominatim.openstreetmap.org/search\"\n",
    "    params = {\n",
    "        \"q\": f\"{query}, Philippines\",\n",
    "        \"format\" : \"json\",\n",
    "    }\n",
    "\n",
    "    response = requests.get(base_url, params=params)\n",
    "    if response.status_code == 200:\n",
    "        results = response.json()\n",
    "        return results\n",
    "    else:\n",
    "        return None"
   ]
  },
  {
   "cell_type": "code",
   "execution_count": 120,
   "id": "c3ed3abe",
   "metadata": {},
   "outputs": [],
   "source": [
    "def coastal_bld_cnt(municipality: dict, radius: int, shoredist: int):\n",
    "    # Find number of local buildings near coast\n",
    "    lat = municipality['lat']\n",
    "    lon = municipality['lon']\n",
    "    \n",
    "    # formatted string using OSM overpass query language\n",
    "    # - search for buildings within radius & store as '.a'\n",
    "    # - search for coastline features within radius & store as '.b'\n",
    "    # - search for buildings within '.a' that are within shoreline distance from features in '.b'\n",
    "    # - return count (to conserve memory)\n",
    "    qstring = f\"way[\\\"building\\\"](around:{radius}, {lat}, {lon})->.a; way[\\\"natural\\\" = \\\"coastline\\\"](around:{radius}, {lat}, {lon})->.b; nwr.a(around.b:{shoredist}); (._;>;); out ids;\"\n",
    "    r = ovp.query(f\"\"\"\n",
    "        {qstring}\n",
    "    \"\"\")\n",
    "    \n",
    "    count = r.countWays()\n",
    "    \n",
    "    return count"
   ]
  },
  {
   "cell_type": "code",
   "execution_count": 121,
   "id": "c02eedb0",
   "metadata": {},
   "outputs": [],
   "source": [
    "api = overpass.API()\n",
    "\n",
    "def coastal_json(municipality:dict):\n",
    "    lat = municipality['lat']\n",
    "    lon = municipality['lon']\n",
    "    radius = municipality['radius']\n",
    "    shoredist = municipality['shoredist']\n",
    "    \n",
    "    # formatted string using OSM overpass query language\n",
    "    # - search for buildings within radius & store as '.a'\n",
    "    # - search for coastline features within radius & store as '.b'\n",
    "    # - search for buildings within '.a' that are within shoreline distance from features in '.b'\n",
    "    # - return count (to conserve memory)\n",
    "    qstring = f\"way[\\\"building\\\"](around:{radius}, {lat}, {lon})->.a; way[\\\"natural\\\" = \\\"coastline\\\"](around:{radius}, {lat}, {lon})->.b; nwr.a(around.b:{shoredist}); (._;>;); out geom;\"\n",
    "\n",
    "    r = api.get(f\"\"\"\n",
    "        {qstring}\n",
    "    \"\"\")\n",
    "    \n",
    "    return r\n",
    "\n",
    "def coast_json(municipality:dict):\n",
    "    lat = municipality['lat']\n",
    "    lon = municipality['lon']\n",
    "    radius = municipality['radius'] * 1.5\n",
    "    \n",
    "    # formatted string using OSM overpass query language\n",
    "    # - search for buildings within radius & store as '.a'\n",
    "    # - search for coastline features within radius & store as '.b'\n",
    "    # - search for buildings within '.a' that are within shoreline distance from features in '.b'\n",
    "    # - return count (to conserve memory)\n",
    "    qstring = f\"way[\\\"natural\\\" = \\\"coastline\\\"](around:{radius}, {lat}, {lon}); (._;>;); out geom;\"\n",
    "\n",
    "    r = api.get(f\"\"\"\n",
    "        {qstring}\n",
    "    \"\"\")\n",
    "    \n",
    "    return r"
   ]
  },
  {
   "cell_type": "code",
   "execution_count": 122,
   "id": "76fde981",
   "metadata": {},
   "outputs": [],
   "source": [
    "def east_west(municipality: dict, df: gpd.GeoDataFrame):\n",
    "    city_lat = float(municipality['lat'])\n",
    "    city_lon = float(municipality['lon'])\n",
    "\n",
    "    bld_lat = df['latitude'].median()\n",
    "    bld_lon = df['longitude'].median()\n",
    "\n",
    "    lat_dif = city_lat-bld_lat\n",
    "    lon_dif = city_lon-bld_lon\n",
    "\n",
    "    diff = (lat_dif, lon_dif)\n",
    "\n",
    "    magnitude = np.sqrt(sum(x ** 2 for x in diff))\n",
    "    norm_tuple = tuple(round(x / magnitude, 4) for x in diff)\n",
    "    \n",
    "    return norm_tuple"
   ]
  },
  {
   "cell_type": "code",
   "execution_count": 123,
   "id": "d6c8877a",
   "metadata": {},
   "outputs": [],
   "source": [
    "def margin_calc(direction: tuple, max=0.03):\n",
    "    pad = [0.005 for i in range(4)]\n",
    "    listicle = [0 for i in range (4)]\n",
    "    if direction[0]>0:\n",
    "        listicle[0] = max*abs(direction[0])\n",
    "    else:\n",
    "        listicle[1] = max*abs(direction[0])\n",
    "    if direction[1]>0:\n",
    "        listicle[2] = max*abs(direction[1])\n",
    "    else:\n",
    "        listicle[3] = max*abs(direction[1])\n",
    "\n",
    "    result = [pad[i]+listicle[i] for i in range(4)]\n",
    "    return result\n"
   ]
  },
  {
   "cell_type": "code",
   "execution_count": 124,
   "id": "33701581",
   "metadata": {},
   "outputs": [],
   "source": [
    "def choose_municipality():\n",
    "    print(\"Philippines Locality Risk Exposures\")\n",
    "    # will automatically add ', Philippines' to query\n",
    "    # include region for added precision\n",
    "    while True:\n",
    "        municipality_name = input(\"Enter the name of target municipality in the Philippines: \")\n",
    "        # many buildings do not have address metadata, so we use search radius from town center\n",
    "        distance_from_city = int(input(\"Building search radius (meters): \"))\n",
    "        distance_from_coast = int(input(\"Maximum distance from the coast (in m): \"))\n",
    "\n",
    "        # Search for municipalities\n",
    "        municipalities = search_municipalities(municipality_name)\n",
    "\n",
    "        if municipalities:\n",
    "            print(\"Top 3 closest results:\")\n",
    "            count_buildings=[]\n",
    "            for idx, result in enumerate(municipalities[:3]):\n",
    "                # find number of relevant buildings to print\n",
    "                bldg_count = coastal_bld_cnt(result, distance_from_city, distance_from_coast)\n",
    "                count_buildings.append(bldg_count)\n",
    "                print(f\"Result {idx + 1}:\")\n",
    "                print(f\"Display Name: {result['display_name']}\")\n",
    "                print(f\"Latitude: {result['lat']}, Longitude: {result['lon']}, Coastal Buildings: {bldg_count}\")\n",
    "                print(\"-------------------\")\n",
    "        \n",
    "            print(\"Enter 0 and revise search if desired result is not shown.\")\n",
    "            print(\"-------------------\")\n",
    "        \n",
    "            while True:\n",
    "                selection = int(input(\"Matching result (1-3)): \"))\n",
    "                if 1 <= selection <= 3:\n",
    "                    selected_municipality = municipalities[selection - 1]\n",
    "                    selected_municipality[\"building_count\"] = count_buildings[selection - 1]\n",
    "                    selected_municipality[\"radius\"] = distance_from_city\n",
    "                    selected_municipality[\"shoredist\"] = distance_from_coast\n",
    "                    break\n",
    "                elif selection == 0:\n",
    "                    print(\"Please revise search\")\n",
    "                    # return to beginning of function\n",
    "                    break\n",
    "                else:\n",
    "                    print(\"Invalid selection. Please choose a number between 1 and 3.\")\n",
    "            break\n",
    "        else:\n",
    "            print(\"No results found for the given query. Check spelling and try again\")\n",
    "\n",
    "    return selected_municipality"
   ]
  },
  {
   "cell_type": "code",
   "execution_count": 125,
   "id": "379f1172",
   "metadata": {
    "scrolled": true
   },
   "outputs": [],
   "source": [
    "out_dir = \"\"\n",
    "# save geojson.feature.FeatureCollection to file\n",
    "def save_geojson(geoquery, city: dict):\n",
    "    name = city['name']\n",
    "    filename = f'{name}_osm_query.GeoJSON'\n",
    "    folder_path = f'./{name}'\n",
    "    \n",
    "    # if local folder f'{name}' exists, save GeoJSON locally\n",
    "    if not os.path.exists(folder_path):\n",
    "        # prompt if user wants to create a local output folder or select an output path\n",
    "        create_folder = input(f\"Folder '{name}' does not exist in current directory. Do you want to create it? (yes/no): \")\n",
    "        if create_folder.lower().startswith('y'):\n",
    "            os.makedirs(folder_path)\n",
    "            filepath = f'{folder_path}/{filename}'\n",
    "        else:\n",
    "            # open a selction screen for a filepath\n",
    "            custom_path = input(\"Please enter the desired output path: \")\n",
    "            folder_path = custom_path\n",
    "            filepath = f'{folder_path}/{filename}'\n",
    "    else:\n",
    "        filepath = f'{folder_path}/{filename}'\n",
    "        # check if f'{folder_path}/{filename}' exists and confirm overwrite\n",
    "        while os.path.exists(filepath):\n",
    "            overwrite = input(f\"'{filepath}' already exists. Overwrite? (yes/no): \")\n",
    "            if overwrite.lower().startswith('y'):\n",
    "                # delete old file\n",
    "                os.remove(filepath)\n",
    "            else:\n",
    "                new_filename = input(f\"Please choose a new filename (default: {filepath}): \")\n",
    "                new_filepath = f'{folder_path}/{new_filename.strip()}'\n",
    "                if new_filename != filename:\n",
    "                    filepath = new_filepath\n",
    "                    break\n",
    "                else:\n",
    "                    filepath = new_filepath\n",
    "                              \n",
    "    with open(filepath, 'w') as file:\n",
    "        json.dump(geoquery, file)\n",
    "    \n",
    "    print(f'OSM query output saved to {filepath}')\n",
    "    return folder_path"
   ]
  },
  {
   "cell_type": "code",
   "execution_count": 126,
   "id": "e863cdf8",
   "metadata": {},
   "outputs": [
    {
     "name": "stdout",
     "output_type": "stream",
     "text": [
      "Philippines Locality Risk Exposures\n"
     ]
    },
    {
     "name": "stderr",
     "output_type": "stream",
     "text": [
      "[overpass] downloading data: [timeout:25][out:json];\n",
      "        way[\"building\"](around:2000, 14.5906346, 120.9799964)->.a; way[\"natural\" = \"coastline\"](around:2000, 14.5906346, 120.9799964)->.b; nwr.a(around.b:200); (._;>;); out ids;\n",
      "    \n"
     ]
    },
    {
     "name": "stdout",
     "output_type": "stream",
     "text": [
      "Top 3 closest results:\n",
      "Result 1:\n",
      "Display Name: Manila, Metro Manila, Philippines\n",
      "Latitude: 14.5906346, Longitude: 120.9799964, Coastal Buildings: 140\n",
      "-------------------\n",
      "Enter 0 and revise search if desired result is not shown.\n",
      "-------------------\n"
     ]
    }
   ],
   "source": [
    "# use 'choose_municipality' function to find desired city and output dict\n",
    "city = choose_municipality()"
   ]
  },
  {
   "cell_type": "code",
   "execution_count": 127,
   "id": "2ca7e7c2",
   "metadata": {},
   "outputs": [
    {
     "name": "stdout",
     "output_type": "stream",
     "text": [
      "OSM query output saved to ./Manila/Manila_osm_query.GeoJSON\n"
     ]
    }
   ],
   "source": [
    "# use OSM api to download GeoJSON of relevant points of interest\n",
    "query = coastal_json(city)\n",
    "# convert GeoJSON to GeoDataFrame\n",
    "gdf = gpd.GeoDataFrame.from_features(query['features'])\n",
    "# export query output to local filepath\n",
    "out_dir = save_geojson(query, city)"
   ]
  },
  {
   "cell_type": "code",
   "execution_count": 128,
   "id": "5dfd5eb1",
   "metadata": {},
   "outputs": [
    {
     "name": "stdout",
     "output_type": "stream",
     "text": [
      "DataFrame 'blds' created with 140 buildings\n"
     ]
    }
   ],
   "source": [
    "# convert geojson data types to osm id types\n",
    "typemap = {\n",
    "    'Point' : 'Node',\n",
    "    'LineString' : 'Way',\n",
    "}\n",
    "gdf['type'] = gdf['geometry'].apply(lambda x: typemap.get(x.geom_type, None))\n",
    "\n",
    "# create new DataFrame with house footprints only\n",
    "blds = gdf[gdf['type'] == 'Way'].reset_index(drop=True).drop_duplicates()\n",
    "blds = blds[~blds['geometry'].is_empty]\n",
    "\n",
    "blds_count = len(blds)\n",
    "if blds_count == city['building_count']:\n",
    "    print(f\"DataFrame 'blds' created with {blds_count} buildings\")\n",
    "else:\n",
    "    print(f\"DataFrame 'blds' created with {blds_count} buildings, {city['building_count']} buildings expected\")"
   ]
  },
  {
   "cell_type": "code",
   "execution_count": 129,
   "id": "eb94f9e4",
   "metadata": {},
   "outputs": [],
   "source": [
    "# query OSM for nearby coastline data\n",
    "coast = coast_json(city)\n",
    "# convert to gdf\n",
    "coast_gdf = gpd.GeoDataFrame.from_features(coast['features'])\n",
    "\n",
    "coast_gdf['type'] = coast_gdf['geometry'].apply(lambda x: typemap.get(x.geom_type, None))\n",
    "\n",
    "# create new DataFrame with house footprints only\n",
    "coast_gdf = coast_gdf[coast_gdf['type'] == 'Way'].reset_index(drop=True).drop_duplicates()"
   ]
  },
  {
   "cell_type": "code",
   "execution_count": 130,
   "id": "fd1cf1a4",
   "metadata": {},
   "outputs": [],
   "source": [
    "# Define the URL for elevation data download\n",
    "elevation_data_url = \"https://data.humdata.org/dataset/d7f6e172-4433-4eb9-a96f-0524917eb11d/resource/2ca22e01-8ab7-4447-b565-653e93db55b0/download/phl_msk_alt.zip\"\n",
    "\n",
    "# Download and unzip the elevation data\n",
    "elevation_zip_path = \"elevation_data.zip\"\n",
    "elevation_data_dir = \"PHL_msk_alt\"\n",
    "if not os.path.exists(elevation_data_dir):\n",
    "    download = requests.get(elevation_data_url)\n",
    "    with open(elevation_zip_path, \"wb\") as zip_file:\n",
    "        zip_file.write(download.content)\n",
    "    os.system(f\"unzip {elevation_zip_path}\")\n",
    "\n",
    "# Load elevation data using rasterio\n",
    "elevation_file_path = os.path.join(elevation_data_dir, \"PHL_msk_alt.grd\")\n",
    "elevation_data = rasterio.open(elevation_file_path)"
   ]
  },
  {
   "cell_type": "code",
   "execution_count": 131,
   "id": "3811ac01",
   "metadata": {},
   "outputs": [],
   "source": [
    "# Create a function to find the closest elevation match\n",
    "def find_closest_elevation(point):\n",
    "    row, col = elevation_data.index(point.x, point.y)\n",
    "    return elevation_data.read(1, window=((row, row + 1), (col, col + 1)))[0][0]"
   ]
  },
  {
   "cell_type": "code",
   "execution_count": 132,
   "id": "3f1cce81",
   "metadata": {},
   "outputs": [],
   "source": [
    "# Add 'ele' column to 'blds' GeoDataFrame with elevation data\n",
    "blds['ele'] = blds['geometry'].centroid.apply(find_closest_elevation)"
   ]
  },
  {
   "cell_type": "code",
   "execution_count": 133,
   "id": "583fc580",
   "metadata": {},
   "outputs": [],
   "source": [
    "# Add 'coordinates' column to blds GeoDataFrame according to centroid of buildings\n",
    "blds['latitude'] = blds['geometry'].apply(lambda x: round(x.centroid.y, 4))\n",
    "blds['longitude'] = blds['geometry'].apply(lambda x: round(x.centroid.x, 4))\n",
    "# Create extent range for mapping\n",
    "#grid_extent = (round(blds['latitude'].min()-0.1, 2), \n",
    "#               round(blds['latitude'].max()+0.1, 2),\n",
    "#               round(blds['longitude'].min()-0.1, 2),\n",
    "#               round(blds['longitude'].max()+0.1, 2))"
   ]
  },
  {
   "cell_type": "code",
   "execution_count": 134,
   "id": "53ee0776",
   "metadata": {},
   "outputs": [],
   "source": [
    "def find_box(value, sorted_ranges):\n",
    "    iterations = len(sorted_ranges)\n",
    "    lower_bounds = []\n",
    "    upper_bounds = []\n",
    "    for rng in sorted_ranges:\n",
    "        lower_bounds.append(rng[0])\n",
    "        upper_bounds.append(rng[1])\n",
    "    for i in range(iterations):\n",
    "        if lower_bounds[i] <= value <= upper_bounds[i]:\n",
    "            return i\n",
    "        else:\n",
    "            continue\n",
    "    return None"
   ]
  },
  {
   "cell_type": "code",
   "execution_count": 135,
   "id": "468a1dcc",
   "metadata": {},
   "outputs": [],
   "source": [
    "def find_boxrange(datalist, max_bins=5):\n",
    "    datalist = sorted(datalist)\n",
    "    percents = [(i+1) * (100/max_bins) for i in range(max_bins-1)]\n",
    "    pct_edges = np.percentile(datalist, percents)\n",
    "    ranges = [[] for i in range(max_bins)]\n",
    "    ranges[0].append(min(datalist))\n",
    "    for i in range(len(pct_edges)):\n",
    "        num = pct_edges[i]\n",
    "        ranges[i].append(num+0.5)\n",
    "        ranges[i+1].append(num+0.5)\n",
    "    ranges[-1].append(max(datalist))\n",
    "    \n",
    "    return ranges"
   ]
  },
  {
   "cell_type": "code",
   "execution_count": 143,
   "id": "b2ef3139",
   "metadata": {},
   "outputs": [],
   "source": [
    "def make_binlabels(datalist, ranges: list):\n",
    "    iterations = len(ranges)\n",
    "    first_val = str(next((x for x in datalist if x > ranges[0][1]), None))\n",
    "    new_range = [[0,0,0] for i in range(iterations)]\n",
    "    for i in range(1,iterations):\n",
    "        if np.ceil(ranges[i][0])==np.floor(ranges[i][1]):\n",
    "            new_range[i]= [str(int(np.ceil(ranges[i][0])))]\n",
    "        else:\n",
    "            new_range[i][0] = str(int(next((x for x in datalist if x > ranges[i-1][1]), '-')))\n",
    "            new_range[i][1] = '-'\n",
    "            new_range[i][2] = str(int(np.floor(ranges[i][1])))\n",
    "    first_label = ''.join(['<',str(first_val)])\n",
    "    last_label = ''.join([new_range[-1][0],'+'])\n",
    "    labels = [''.join(new_range[i]) for i in range(1,iterations-1)]\n",
    "    for i in range(len(labels)):\n",
    "        labels[i] = new_range[i][0] if new_range[i][0] == new_range[i][0] else skip\n",
    "    labels.insert(0, first_label)\n",
    "    labels.append(last_label)\n",
    "\n",
    "    return labels"
   ]
  },
  {
   "cell_type": "code",
   "execution_count": 144,
   "id": "f7133e40",
   "metadata": {},
   "outputs": [
    {
     "name": "stderr",
     "output_type": "stream",
     "text": [
      "/var/folders/s8/txt2bgxx5v992lfctyncvn6r0000gn/T/ipykernel_98331/2436471310.py:19: MatplotlibDeprecationWarning: The get_cmap function was deprecated in Matplotlib 3.7 and will be removed two minor releases later. Use ``matplotlib.colormaps[name]`` or ``matplotlib.colormaps.get_cmap(obj)`` instead.\n",
      "  color_map = plt.cm.get_cmap('GnBu_r', len(unique_elevation_levels))\n"
     ]
    },
    {
     "ename": "TypeError",
     "evalue": "'value' must be an instance of str or bytes, not a int",
     "output_type": "error",
     "traceback": [
      "\u001b[0;31m---------------------------------------------------------------------------\u001b[0m",
      "\u001b[0;31mTypeError\u001b[0m                                 Traceback (most recent call last)",
      "\u001b[1;32m/Users/michaelh/Documents/Summer '23/research/psa (philippines statistical authority)/Untitled copy.ipynb Cell 24\u001b[0m line \u001b[0;36m6\n\u001b[1;32m     <a href='vscode-notebook-cell:/Users/michaelh/Documents/Summer%20%2723/research/psa%20%28philippines%20statistical%20authority%29/Untitled%20copy.ipynb#X24sZmlsZQ%3D%3D?line=66'>67</a>\u001b[0m \u001b[39m# Generate a histogram of building elevations\u001b[39;00m\n\u001b[1;32m     <a href='vscode-notebook-cell:/Users/michaelh/Documents/Summer%20%2723/research/psa%20%28philippines%20statistical%20authority%29/Untitled%20copy.ipynb#X24sZmlsZQ%3D%3D?line=67'>68</a>\u001b[0m plt\u001b[39m.\u001b[39mfigure(figsize\u001b[39m=\u001b[39m(\u001b[39m8\u001b[39m, \u001b[39m6\u001b[39m))\n\u001b[0;32m---> <a href='vscode-notebook-cell:/Users/michaelh/Documents/Summer%20%2723/research/psa%20%28philippines%20statistical%20authority%29/Untitled%20copy.ipynb#X24sZmlsZQ%3D%3D?line=68'>69</a>\u001b[0m plt\u001b[39m.\u001b[39;49mbar(lbl, hgt, color\u001b[39m=\u001b[39;49m\u001b[39m'\u001b[39;49m\u001b[39mblue\u001b[39;49m\u001b[39m'\u001b[39;49m, edgecolor\u001b[39m=\u001b[39;49m\u001b[39m'\u001b[39;49m\u001b[39mblack\u001b[39;49m\u001b[39m'\u001b[39;49m, alpha\u001b[39m=\u001b[39;49m\u001b[39m0.7\u001b[39;49m)\n\u001b[1;32m     <a href='vscode-notebook-cell:/Users/michaelh/Documents/Summer%20%2723/research/psa%20%28philippines%20statistical%20authority%29/Untitled%20copy.ipynb#X24sZmlsZQ%3D%3D?line=69'>70</a>\u001b[0m plt\u001b[39m.\u001b[39mxlabel(\u001b[39m\"\u001b[39m\u001b[39mElevation (m)\u001b[39m\u001b[39m\"\u001b[39m)\n\u001b[1;32m     <a href='vscode-notebook-cell:/Users/michaelh/Documents/Summer%20%2723/research/psa%20%28philippines%20statistical%20authority%29/Untitled%20copy.ipynb#X24sZmlsZQ%3D%3D?line=70'>71</a>\u001b[0m plt\u001b[39m.\u001b[39mylabel(\u001b[39m\"\u001b[39m\u001b[39mNumber of Buildings\u001b[39m\u001b[39m\"\u001b[39m)\n",
      "File \u001b[0;32m~/miniconda3/lib/python3.10/site-packages/matplotlib/pyplot.py:2439\u001b[0m, in \u001b[0;36mbar\u001b[0;34m(x, height, width, bottom, align, data, **kwargs)\u001b[0m\n\u001b[1;32m   2435\u001b[0m \u001b[39m@_copy_docstring_and_deprecators\u001b[39m(Axes\u001b[39m.\u001b[39mbar)\n\u001b[1;32m   2436\u001b[0m \u001b[39mdef\u001b[39;00m \u001b[39mbar\u001b[39m(\n\u001b[1;32m   2437\u001b[0m         x, height, width\u001b[39m=\u001b[39m\u001b[39m0.8\u001b[39m, bottom\u001b[39m=\u001b[39m\u001b[39mNone\u001b[39;00m, \u001b[39m*\u001b[39m, align\u001b[39m=\u001b[39m\u001b[39m'\u001b[39m\u001b[39mcenter\u001b[39m\u001b[39m'\u001b[39m,\n\u001b[1;32m   2438\u001b[0m         data\u001b[39m=\u001b[39m\u001b[39mNone\u001b[39;00m, \u001b[39m*\u001b[39m\u001b[39m*\u001b[39mkwargs):\n\u001b[0;32m-> 2439\u001b[0m     \u001b[39mreturn\u001b[39;00m gca()\u001b[39m.\u001b[39;49mbar(\n\u001b[1;32m   2440\u001b[0m         x, height, width\u001b[39m=\u001b[39;49mwidth, bottom\u001b[39m=\u001b[39;49mbottom, align\u001b[39m=\u001b[39;49malign,\n\u001b[1;32m   2441\u001b[0m         \u001b[39m*\u001b[39;49m\u001b[39m*\u001b[39;49m({\u001b[39m\"\u001b[39;49m\u001b[39mdata\u001b[39;49m\u001b[39m\"\u001b[39;49m: data} \u001b[39mif\u001b[39;49;00m data \u001b[39mis\u001b[39;49;00m \u001b[39mnot\u001b[39;49;00m \u001b[39mNone\u001b[39;49;00m \u001b[39melse\u001b[39;49;00m {}), \u001b[39m*\u001b[39;49m\u001b[39m*\u001b[39;49mkwargs)\n",
      "File \u001b[0;32m~/miniconda3/lib/python3.10/site-packages/matplotlib/__init__.py:1442\u001b[0m, in \u001b[0;36m_preprocess_data.<locals>.inner\u001b[0;34m(ax, data, *args, **kwargs)\u001b[0m\n\u001b[1;32m   1439\u001b[0m \u001b[39m@functools\u001b[39m\u001b[39m.\u001b[39mwraps(func)\n\u001b[1;32m   1440\u001b[0m \u001b[39mdef\u001b[39;00m \u001b[39minner\u001b[39m(ax, \u001b[39m*\u001b[39margs, data\u001b[39m=\u001b[39m\u001b[39mNone\u001b[39;00m, \u001b[39m*\u001b[39m\u001b[39m*\u001b[39mkwargs):\n\u001b[1;32m   1441\u001b[0m     \u001b[39mif\u001b[39;00m data \u001b[39mis\u001b[39;00m \u001b[39mNone\u001b[39;00m:\n\u001b[0;32m-> 1442\u001b[0m         \u001b[39mreturn\u001b[39;00m func(ax, \u001b[39m*\u001b[39;49m\u001b[39mmap\u001b[39;49m(sanitize_sequence, args), \u001b[39m*\u001b[39;49m\u001b[39m*\u001b[39;49mkwargs)\n\u001b[1;32m   1444\u001b[0m     bound \u001b[39m=\u001b[39m new_sig\u001b[39m.\u001b[39mbind(ax, \u001b[39m*\u001b[39margs, \u001b[39m*\u001b[39m\u001b[39m*\u001b[39mkwargs)\n\u001b[1;32m   1445\u001b[0m     auto_label \u001b[39m=\u001b[39m (bound\u001b[39m.\u001b[39marguments\u001b[39m.\u001b[39mget(label_namer)\n\u001b[1;32m   1446\u001b[0m                   \u001b[39mor\u001b[39;00m bound\u001b[39m.\u001b[39mkwargs\u001b[39m.\u001b[39mget(label_namer))\n",
      "File \u001b[0;32m~/miniconda3/lib/python3.10/site-packages/matplotlib/axes/_axes.py:2392\u001b[0m, in \u001b[0;36mAxes.bar\u001b[0;34m(self, x, height, width, bottom, align, **kwargs)\u001b[0m\n\u001b[1;32m   2389\u001b[0m         x \u001b[39m=\u001b[39m \u001b[39m0\u001b[39m\n\u001b[1;32m   2391\u001b[0m \u001b[39mif\u001b[39;00m orientation \u001b[39m==\u001b[39m \u001b[39m'\u001b[39m\u001b[39mvertical\u001b[39m\u001b[39m'\u001b[39m:\n\u001b[0;32m-> 2392\u001b[0m     \u001b[39mself\u001b[39;49m\u001b[39m.\u001b[39;49m_process_unit_info(\n\u001b[1;32m   2393\u001b[0m         [(\u001b[39m\"\u001b[39;49m\u001b[39mx\u001b[39;49m\u001b[39m\"\u001b[39;49m, x), (\u001b[39m\"\u001b[39;49m\u001b[39my\u001b[39;49m\u001b[39m\"\u001b[39;49m, height)], kwargs, convert\u001b[39m=\u001b[39;49m\u001b[39mFalse\u001b[39;49;00m)\n\u001b[1;32m   2394\u001b[0m     \u001b[39mif\u001b[39;00m log:\n\u001b[1;32m   2395\u001b[0m         \u001b[39mself\u001b[39m\u001b[39m.\u001b[39mset_yscale(\u001b[39m'\u001b[39m\u001b[39mlog\u001b[39m\u001b[39m'\u001b[39m, nonpositive\u001b[39m=\u001b[39m\u001b[39m'\u001b[39m\u001b[39mclip\u001b[39m\u001b[39m'\u001b[39m)\n",
      "File \u001b[0;32m~/miniconda3/lib/python3.10/site-packages/matplotlib/axes/_base.py:2549\u001b[0m, in \u001b[0;36m_AxesBase._process_unit_info\u001b[0;34m(self, datasets, kwargs, convert)\u001b[0m\n\u001b[1;32m   2547\u001b[0m     \u001b[39m# Update from data if axis is already set but no unit is set yet.\u001b[39;00m\n\u001b[1;32m   2548\u001b[0m     \u001b[39mif\u001b[39;00m axis \u001b[39mis\u001b[39;00m \u001b[39mnot\u001b[39;00m \u001b[39mNone\u001b[39;00m \u001b[39mand\u001b[39;00m data \u001b[39mis\u001b[39;00m \u001b[39mnot\u001b[39;00m \u001b[39mNone\u001b[39;00m \u001b[39mand\u001b[39;00m \u001b[39mnot\u001b[39;00m axis\u001b[39m.\u001b[39mhave_units():\n\u001b[0;32m-> 2549\u001b[0m         axis\u001b[39m.\u001b[39;49mupdate_units(data)\n\u001b[1;32m   2550\u001b[0m \u001b[39mfor\u001b[39;00m axis_name, axis \u001b[39min\u001b[39;00m axis_map\u001b[39m.\u001b[39mitems():\n\u001b[1;32m   2551\u001b[0m     \u001b[39m# Return if no axis is set.\u001b[39;00m\n\u001b[1;32m   2552\u001b[0m     \u001b[39mif\u001b[39;00m axis \u001b[39mis\u001b[39;00m \u001b[39mNone\u001b[39;00m:\n",
      "File \u001b[0;32m~/miniconda3/lib/python3.10/site-packages/matplotlib/axis.py:1675\u001b[0m, in \u001b[0;36mAxis.update_units\u001b[0;34m(self, data)\u001b[0m\n\u001b[1;32m   1673\u001b[0m neednew \u001b[39m=\u001b[39m \u001b[39mself\u001b[39m\u001b[39m.\u001b[39mconverter \u001b[39m!=\u001b[39m converter\n\u001b[1;32m   1674\u001b[0m \u001b[39mself\u001b[39m\u001b[39m.\u001b[39mconverter \u001b[39m=\u001b[39m converter\n\u001b[0;32m-> 1675\u001b[0m default \u001b[39m=\u001b[39m \u001b[39mself\u001b[39;49m\u001b[39m.\u001b[39;49mconverter\u001b[39m.\u001b[39;49mdefault_units(data, \u001b[39mself\u001b[39;49m)\n\u001b[1;32m   1676\u001b[0m \u001b[39mif\u001b[39;00m default \u001b[39mis\u001b[39;00m \u001b[39mnot\u001b[39;00m \u001b[39mNone\u001b[39;00m \u001b[39mand\u001b[39;00m \u001b[39mself\u001b[39m\u001b[39m.\u001b[39munits \u001b[39mis\u001b[39;00m \u001b[39mNone\u001b[39;00m:\n\u001b[1;32m   1677\u001b[0m     \u001b[39mself\u001b[39m\u001b[39m.\u001b[39mset_units(default)\n",
      "File \u001b[0;32m~/miniconda3/lib/python3.10/site-packages/matplotlib/category.py:105\u001b[0m, in \u001b[0;36mStrCategoryConverter.default_units\u001b[0;34m(data, axis)\u001b[0m\n\u001b[1;32m    103\u001b[0m \u001b[39m# the conversion call stack is default_units -> axis_info -> convert\u001b[39;00m\n\u001b[1;32m    104\u001b[0m \u001b[39mif\u001b[39;00m axis\u001b[39m.\u001b[39munits \u001b[39mis\u001b[39;00m \u001b[39mNone\u001b[39;00m:\n\u001b[0;32m--> 105\u001b[0m     axis\u001b[39m.\u001b[39mset_units(UnitData(data))\n\u001b[1;32m    106\u001b[0m \u001b[39melse\u001b[39;00m:\n\u001b[1;32m    107\u001b[0m     axis\u001b[39m.\u001b[39munits\u001b[39m.\u001b[39mupdate(data)\n",
      "File \u001b[0;32m~/miniconda3/lib/python3.10/site-packages/matplotlib/category.py:181\u001b[0m, in \u001b[0;36mUnitData.__init__\u001b[0;34m(self, data)\u001b[0m\n\u001b[1;32m    179\u001b[0m \u001b[39mself\u001b[39m\u001b[39m.\u001b[39m_counter \u001b[39m=\u001b[39m itertools\u001b[39m.\u001b[39mcount()\n\u001b[1;32m    180\u001b[0m \u001b[39mif\u001b[39;00m data \u001b[39mis\u001b[39;00m \u001b[39mnot\u001b[39;00m \u001b[39mNone\u001b[39;00m:\n\u001b[0;32m--> 181\u001b[0m     \u001b[39mself\u001b[39;49m\u001b[39m.\u001b[39;49mupdate(data)\n",
      "File \u001b[0;32m~/miniconda3/lib/python3.10/site-packages/matplotlib/category.py:216\u001b[0m, in \u001b[0;36mUnitData.update\u001b[0;34m(self, data)\u001b[0m\n\u001b[1;32m    213\u001b[0m convertible \u001b[39m=\u001b[39m \u001b[39mTrue\u001b[39;00m\n\u001b[1;32m    214\u001b[0m \u001b[39mfor\u001b[39;00m val \u001b[39min\u001b[39;00m OrderedDict\u001b[39m.\u001b[39mfromkeys(data):\n\u001b[1;32m    215\u001b[0m     \u001b[39m# OrderedDict just iterates over unique values in data.\u001b[39;00m\n\u001b[0;32m--> 216\u001b[0m     _api\u001b[39m.\u001b[39;49mcheck_isinstance((\u001b[39mstr\u001b[39;49m, \u001b[39mbytes\u001b[39;49m), value\u001b[39m=\u001b[39;49mval)\n\u001b[1;32m    217\u001b[0m     \u001b[39mif\u001b[39;00m convertible:\n\u001b[1;32m    218\u001b[0m         \u001b[39m# this will only be called so long as convertible is True.\u001b[39;00m\n\u001b[1;32m    219\u001b[0m         convertible \u001b[39m=\u001b[39m \u001b[39mself\u001b[39m\u001b[39m.\u001b[39m_str_is_convertible(val)\n",
      "File \u001b[0;32m~/miniconda3/lib/python3.10/site-packages/matplotlib/_api/__init__.py:93\u001b[0m, in \u001b[0;36mcheck_isinstance\u001b[0;34m(_types, **kwargs)\u001b[0m\n\u001b[1;32m     91\u001b[0m     names\u001b[39m.\u001b[39mremove(\u001b[39m\"\u001b[39m\u001b[39mNone\u001b[39m\u001b[39m\"\u001b[39m)\n\u001b[1;32m     92\u001b[0m     names\u001b[39m.\u001b[39mappend(\u001b[39m\"\u001b[39m\u001b[39mNone\u001b[39m\u001b[39m\"\u001b[39m)\n\u001b[0;32m---> 93\u001b[0m \u001b[39mraise\u001b[39;00m \u001b[39mTypeError\u001b[39;00m(\n\u001b[1;32m     94\u001b[0m     \u001b[39m\"\u001b[39m\u001b[39m{!r}\u001b[39;00m\u001b[39m must be an instance of \u001b[39m\u001b[39m{}\u001b[39;00m\u001b[39m, not a \u001b[39m\u001b[39m{}\u001b[39;00m\u001b[39m\"\u001b[39m\u001b[39m.\u001b[39mformat(\n\u001b[1;32m     95\u001b[0m         k,\n\u001b[1;32m     96\u001b[0m         \u001b[39m\"\u001b[39m\u001b[39m, \u001b[39m\u001b[39m\"\u001b[39m\u001b[39m.\u001b[39mjoin(names[:\u001b[39m-\u001b[39m\u001b[39m1\u001b[39m]) \u001b[39m+\u001b[39m \u001b[39m\"\u001b[39m\u001b[39m or \u001b[39m\u001b[39m\"\u001b[39m \u001b[39m+\u001b[39m names[\u001b[39m-\u001b[39m\u001b[39m1\u001b[39m]\n\u001b[1;32m     97\u001b[0m         \u001b[39mif\u001b[39;00m \u001b[39mlen\u001b[39m(names) \u001b[39m>\u001b[39m \u001b[39m1\u001b[39m \u001b[39melse\u001b[39;00m names[\u001b[39m0\u001b[39m],\n\u001b[1;32m     98\u001b[0m         type_name(\u001b[39mtype\u001b[39m(v))))\n",
      "\u001b[0;31mTypeError\u001b[0m: 'value' must be an instance of str or bytes, not a int"
     ]
    },
    {
     "data": {
      "image/png": "[encoded data removed]",
      "text/plain": [
       "<Figure size 1000x1000 with 2 Axes>"
      ]
     },
     "metadata": {},
     "output_type": "display_data"
    },
    {
     "data": {
      "image/png": "[encoded data removed]",
      "text/plain": [
       "<Figure size 800x600 with 1 Axes>"
      ]
     },
     "metadata": {},
     "output_type": "display_data"
    }
   ],
   "source": [
    "## Add shoreline map to subplots\n",
    "# Create a figure and axis with Cartopy projection\n",
    "projection = ccrs.PlateCarree()\n",
    "fig, ax = plt.subplots(subplot_kw={'projection': projection}, figsize=(10, 10))\n",
    "\n",
    "#calculate bounds based on direction of coast\n",
    "direc = east_west(city, blds)\n",
    "pad = margin_calc(direc, max=0.02)\n",
    "bounds= blds.total_bounds\n",
    "ax.set_extent([bounds[0]-pad[2], bounds[2]+pad[3], bounds[1]-pad[0], bounds[3]+pad[1]])\n",
    "\n",
    "# Read the data with a specified fill_value of 0 for ocean tiles\n",
    "elevation_levels = elevation_data.read(1, window=elevation_data.window(*bounds), masked=True)\n",
    "\n",
    "# Extract unique elevation levels\n",
    "unique_elevation_levels = list(set(elevation_levels.filled(0).flatten().tolist()))\n",
    "\n",
    "# Add contours from elevation data\n",
    "color_map = plt.cm.get_cmap('GnBu_r', len(unique_elevation_levels))\n",
    "color_map.set_bad(color='lightgray', alpha=.6)\n",
    "show(elevation_data, ax=ax, cmap=color_map, alpha=1, vmin=min(unique_elevation_levels), vmax=max(unique_elevation_levels))\n",
    "\n",
    "norm = mcolors.BoundaryNorm(boundaries=unique_elevation_levels, ncolors=color_map.N)\n",
    "\n",
    "# Create a ScalarMappable object\n",
    "sm = plt.cm.ScalarMappable(cmap=color_map, norm=norm)\n",
    "\n",
    "# Set up the colorbar with custom labels\n",
    "cbar = plt.colorbar(sm, ax=ax, ticks=unique_elevation_levels, format='%1.0f m')\n",
    "cbar.set_label('Elevation (meters above mean sea level)')\n",
    "\n",
    "# Add outlines for houses from GeoDataFrame\n",
    "blds.plot(ax=ax, edgecolor='red', linewidth=1)\n",
    "# Add coastline ways from Geodataframe\n",
    "coast_gdf.plot(ax=ax, edgecolor='black', linewidth=1)\n",
    "\n",
    "# Save the map locally\n",
    "map_image_path = f\"{out_dir}/coastal_elevation_map.png\"\n",
    "plt.savefig(map_image_path, dpi=300, bbox_inches='tight')\n",
    "\n",
    "\n",
    "\n",
    "## Add histogram to sublot\n",
    "ele_data = sorted(blds['ele'].astype(int).tolist())\n",
    "hist_data = []\n",
    "\n",
    "# parameters for histogram\n",
    "bin_limit = 5\n",
    "ele_limit = 20\n",
    "max_val = max(ele_data)\n",
    "min_val = min(ele_data)\n",
    "\n",
    "bin_boxes = find_boxrange(ele_data, bin_limit)\n",
    "bin_labels = make_binlabels(ele_data, bin_boxes)\n",
    "for x in ele_data:\n",
    "    index = find_box(x, bin_boxes)\n",
    "    hist_data.append(bin_labels[index])\n",
    "\n",
    "bin_count = len(set(data))\n",
    "\n",
    "# Calculate the bin width to ensure integer bins\n",
    "bin_width = max(1, (max_val - min_val) // bin_count)\n",
    "c = collections.Counter(hist_data)\n",
    "lbl = [i[0] for i in c.items()]\n",
    "hgt = [i[1] for i in c.items()]\n",
    "\n",
    "# Generate a histogram of building elevations\n",
    "plt.figure(figsize=(8, 6))\n",
    "plt.bar(lbl, hgt, color='blue', edgecolor='black', alpha=0.7)\n",
    "plt.xlabel(\"Elevation (m)\")\n",
    "plt.ylabel(\"Number of Buildings\")\n",
    "plt.title(\"Building Elevations Histogram\")\n",
    "\n",
    "# Save the histogram locally\n",
    "histogram_image_path = f\"{out_dir}/elevation_histogram.png\"\n",
    "plt.savefig(histogram_image_path, dpi=300, bbox_inches='tight')\n",
    "\n",
    "# Display the charts\n",
    "plt.show()"
   ]
  },
  {
   "cell_type": "code",
   "execution_count": null,
   "id": "c40c96d7",
   "metadata": {},
   "outputs": [],
   "source": [
    "if len(ele_vals)<=bin_limit:\n",
    "    vals = sorted(ele_vals)\n",
    "    bin_labels = [f'<{vals[1]}' if x == -9999 else str(x) for x in vals]\n",
    "    bin_boxes = [(x-0.5, x+0.5) for x in vals]\n",
    "else:\n",
    "    quintile = np.percentile(sorted(blds['ele'].tolist()), [20, 40, 60, 80])\n",
    "    bin_num = len(set(quintile)) + 1\n",
    "    bin_boxes = [() for i in range(bin_num)]\n",
    "    for i in range(len(quintile)):\n",
    "        if \n",
    "    #bin_dict = {x : (f'<{vals[1]}' if x == -9999 else str(x)) for x in vals}\n",
    "    \n",
    "\n",
    "bin_num"
   ]
  },
  {
   "cell_type": "code",
   "execution_count": null,
   "id": "53509ab7",
   "metadata": {},
   "outputs": [],
   "source": [
    "#ele_data = blds['ele'].tolist()\n",
    "ele_data = [bin_dict[x] for x in sorted(blds['ele'].tolist())]\n",
    "plt.hist(ele_data)\n",
    "\n",
    "plt.xticks(align='center')\n",
    "ele_data"
   ]
  },
  {
   "cell_type": "code",
   "execution_count": null,
   "id": "60d410a7",
   "metadata": {},
   "outputs": [],
   "source": [
    "ele_data = []\n",
    "for elevation in blds['ele'].tolist():\n",
    "    idx = find_box(elevation, bin_boxes)\n",
    "    ele_data.append(bin_names[idx])"
   ]
  },
  {
   "cell_type": "code",
   "execution_count": 145,
   "id": "c6af1be7",
   "metadata": {},
   "outputs": [
    {
     "data": {
      "text/plain": [
       "['<8', 0, '8', '13+']"
      ]
     },
     "execution_count": 145,
     "metadata": {},
     "output_type": "execute_result"
    }
   ],
   "source": [
    "lbl"
   ]
  },
  {
   "cell_type": "code",
   "execution_count": 146,
   "id": "4cbd9d25",
   "metadata": {},
   "outputs": [
    {
     "data": {
      "text/plain": [
       "[[4, 7.5], [7.5, 8.5], [8.5, 10.5], [10.5, 10.5], [10.5, 13]]"
      ]
     },
     "execution_count": 146,
     "metadata": {},
     "output_type": "execute_result"
    }
   ],
   "source": [
    "bin_boxes"
   ]
  },
  {
   "cell_type": "code",
   "execution_count": 149,
   "id": "de5456e2",
   "metadata": {},
   "outputs": [
    {
     "data": {
      "text/plain": [
       "array([ 7.,  8., 10., 10.])"
      ]
     },
     "execution_count": 149,
     "metadata": {},
     "output_type": "execute_result"
    }
   ],
   "source": [
    "np.percentile(ele_data,[20,40,60,80])"
   ]
  },
  {
   "cell_type": "code",
   "execution_count": null,
   "id": "c481a66e",
   "metadata": {},
   "outputs": [],
   "source": []
  }
 ],
 "metadata": {
  "kernelspec": {
   "display_name": "Python 3 (ipykernel)",
   "language": "python",
   "name": "python3"
  },
  "language_info": {
   "codemirror_mode": {
    "name": "ipython",
    "version": 3
   },
   "file_extension": ".py",
   "mimetype": "text/x-python",
   "name": "python",
   "nbconvert_exporter": "python",
   "pygments_lexer": "ipython3",
   "version": "3.10.12"
  }
 },
 "nbformat": 4,
 "nbformat_minor": 5
}
