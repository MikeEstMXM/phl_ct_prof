{
 "cells": [
  {
   "cell_type": "code",
   "execution_count": 1,
   "id": "f61f65af",
   "metadata": {
    "scrolled": true
   },
   "outputs": [],
   "source": [
    "# aideveloper\n",
    "# Municipality Locator v1.0 - Find closest municipalities in the Philippines\n",
    "import requests\n",
    "import pandas as pd\n",
    "import numpy as np\n",
    "import folium\n",
    "from fuzzywuzzy import fuzz"
   ]
  },
  {
   "cell_type": "code",
   "execution_count": 2,
   "id": "1feb4171",
   "metadata": {},
   "outputs": [],
   "source": [
    "from OSMPythonTools.overpass import Overpass\n",
    "ovp = Overpass()"
   ]
  },
  {
   "cell_type": "code",
   "execution_count": 3,
   "id": "d1099312",
   "metadata": {},
   "outputs": [],
   "source": [
    "import overpass\n",
    "import geopandas as gpd\n",
    "api = overpass.API()"
   ]
  },
  {
   "cell_type": "code",
   "execution_count": 4,
   "id": "4d476455",
   "metadata": {},
   "outputs": [],
   "source": [
    "import os\n",
    "import json\n",
    "import collections"
   ]
  },
  {
   "cell_type": "code",
   "execution_count": 5,
   "id": "0d5816a9",
   "metadata": {},
   "outputs": [],
   "source": [
    "import cartopy.crs as ccrs\n",
    "import cartopy.feature as cfeature\n",
    "from rasterio.plot import show\n",
    "import rasterio\n",
    "import matplotlib.pyplot as plt\n",
    "import matplotlib.colors as mcolors"
   ]
  },
  {
   "cell_type": "code",
   "execution_count": 6,
   "id": "420a5a55",
   "metadata": {},
   "outputs": [],
   "source": [
    "def search_municipalities(query):\n",
    "    # Search OpenStreetMap for municipalities in the Philippines\n",
    "    base_url = \"https://nominatim.openstreetmap.org/search\"\n",
    "    params = {\n",
    "        \"q\": f\"{query}, Philippines\",\n",
    "        \"format\" : \"json\",\n",
    "    }\n",
    "\n",
    "    response = requests.get(base_url, params=params)\n",
    "    if response.status_code == 200:\n",
    "        results = response.json()\n",
    "        return results\n",
    "    else:\n",
    "        return None"
   ]
  },
  {
   "cell_type": "code",
   "execution_count": 7,
   "id": "c3ed3abe",
   "metadata": {},
   "outputs": [],
   "source": [
    "def coastal_bld_cnt(municipality: dict, radius: int, shoredist: int):\n",
    "    # Find number of local buildings near coast\n",
    "    lat = municipality['lat']\n",
    "    lon = municipality['lon']\n",
    "    \n",
    "    # formatted string using OSM overpass query language\n",
    "    # - search for buildings within radius & store as '.a'\n",
    "    # - search for coastline features within radius & store as '.b'\n",
    "    # - search for buildings within '.a' that are within shoreline distance from features in '.b'\n",
    "    # - return count (to conserve memory)\n",
    "    qstring = f\"way[\\\"building\\\"](around:{radius}, {lat}, {lon})->.a; way[\\\"natural\\\" = \\\"coastline\\\"](around:{radius}, {lat}, {lon})->.b; nwr.a(around.b:{shoredist}); (._;>;); out ids;\"\n",
    "    r = ovp.query(f\"\"\"\n",
    "        {qstring}\n",
    "    \"\"\")\n",
    "    \n",
    "    count = r.countWays()\n",
    "    \n",
    "    return count"
   ]
  },
  {
   "cell_type": "code",
   "execution_count": 8,
   "id": "c02eedb0",
   "metadata": {},
   "outputs": [],
   "source": [
    "def coastal_json(municipality:dict):\n",
    "    lat = municipality['lat']\n",
    "    lon = municipality['lon']\n",
    "    radius = municipality['radius']\n",
    "    shoredist = municipality['shoredist']\n",
    "    \n",
    "    # formatted string using OSM overpass query language\n",
    "    # - search for buildings within radius & store as '.a'\n",
    "    # - search for coastline features within radius & store as '.b'\n",
    "    # - search for buildings within '.a' that are within shoreline distance from features in '.b'\n",
    "    # - return count (to conserve memory)\n",
    "    qstring = f\"way[\\\"building\\\"](around:{radius}, {lat}, {lon})->.a; way[\\\"natural\\\" = \\\"coastline\\\"](around:{radius}, {lat}, {lon})->.b; nwr.a(around.b:{shoredist}); (._;>;); out geom;\"\n",
    "\n",
    "    r = api.get(f\"\"\"\n",
    "        {qstring}\n",
    "    \"\"\")\n",
    "    \n",
    "    return r\n",
    "\n",
    "def coast_json(municipality:dict):\n",
    "    lat = municipality['lat']\n",
    "    lon = municipality['lon']\n",
    "    radius = municipality['radius'] * 1.5\n",
    "    \n",
    "    # formatted string using OSM overpass query language\n",
    "    # - search for buildings within radius & store as '.a'\n",
    "    # - search for coastline features within radius & store as '.b'\n",
    "    # - search for buildings within '.a' that are within shoreline distance from features in '.b'\n",
    "    # - return count (to conserve memory)\n",
    "    qstring = f\"way[\\\"natural\\\" = \\\"coastline\\\"](around:{radius}, {lat}, {lon}); (._;>;); out geom;\"\n",
    "\n",
    "    r = api.get(f\"\"\"\n",
    "        {qstring}\n",
    "    \"\"\")\n",
    "    \n",
    "    return r"
   ]
  },
  {
   "cell_type": "code",
   "execution_count": 9,
   "id": "76fde981",
   "metadata": {},
   "outputs": [],
   "source": [
    "def east_west(municipality: dict, df: gpd.GeoDataFrame):\n",
    "    city_lat = float(municipality['lat'])\n",
    "    city_lon = float(municipality['lon'])\n",
    "\n",
    "    bld_lat = df['latitude'].median()\n",
    "    bld_lon = df['longitude'].median()\n",
    "\n",
    "    lat_dif = city_lat-bld_lat\n",
    "    lon_dif = city_lon-bld_lon\n",
    "\n",
    "    diff = (lat_dif, lon_dif)\n",
    "\n",
    "    magnitude = np.sqrt(sum(x ** 2 for x in diff))\n",
    "    norm_tuple = tuple(round(x / magnitude, 4) for x in diff)\n",
    "    \n",
    "    return norm_tuple"
   ]
  },
  {
   "cell_type": "code",
   "execution_count": 10,
   "id": "d6c8877a",
   "metadata": {},
   "outputs": [],
   "source": [
    "def margin_calc(direction: tuple, max=0.03):\n",
    "    pad = [0.005 for i in range(4)]\n",
    "    listicle = [0 for i in range (4)]\n",
    "    if direction[0]>0:\n",
    "        listicle[0] = max*abs(direction[0])\n",
    "    else:\n",
    "        listicle[1] = max*abs(direction[0])\n",
    "    if direction[1]>0:\n",
    "        listicle[2] = max*abs(direction[1])\n",
    "    else:\n",
    "        listicle[3] = max*abs(direction[1])\n",
    "\n",
    "    result = [pad[i]+listicle[i] for i in range(4)]\n",
    "    return result\n"
   ]
  },
  {
   "cell_type": "code",
   "execution_count": 11,
   "id": "33701581",
   "metadata": {},
   "outputs": [],
   "source": [
    "def choose_municipality():\n",
    "    print(\"Philippines Locality Risk Exposures\")\n",
    "    # will automatically add ', Philippines' to query\n",
    "    # include region for added precision\n",
    "    while True:\n",
    "        municipality_name = input(\"Enter the name of target municipality in the Philippines: \")\n",
    "        # many buildings do not have address metadata, so we use search radius from town center\n",
    "        distance_from_city = int(input(\"Building search radius (meters): \"))\n",
    "        distance_from_coast = int(input(\"Maximum distance from the coast (in m): \"))\n",
    "\n",
    "        # Search for municipalities\n",
    "        municipalities = search_municipalities(municipality_name)\n",
    "\n",
    "        if municipalities:\n",
    "            print(\"Top 3 closest results:\")\n",
    "            count_buildings=[]\n",
    "            for idx, result in enumerate(municipalities[:3]):\n",
    "                # find number of relevant buildings to print\n",
    "                bldg_count = coastal_bld_cnt(result, distance_from_city, distance_from_coast)\n",
    "                count_buildings.append(bldg_count)\n",
    "                print(f\"Result {idx + 1}:\")\n",
    "                print(f\"Display Name: {result['display_name']}\")\n",
    "                print(f\"Latitude: {result['lat']}, Longitude: {result['lon']}, Coastal Buildings: {bldg_count}\")\n",
    "                print(\"-------------------\")\n",
    "        \n",
    "            print(\"Enter 0 and revise search if desired result is not shown.\")\n",
    "            print(\"-------------------\")\n",
    "        \n",
    "            while True:\n",
    "                selection = int(input(\"Matching result (1-3)): \"))\n",
    "                if 1 <= selection <= 3:\n",
    "                    selected_municipality = municipalities[selection - 1]\n",
    "                    selected_municipality[\"building_count\"] = count_buildings[selection - 1]\n",
    "                    selected_municipality[\"radius\"] = distance_from_city\n",
    "                    selected_municipality[\"shoredist\"] = distance_from_coast\n",
    "                    break\n",
    "                elif selection == 0:\n",
    "                    print(\"Please revise search\")\n",
    "                    # return to beginning of function\n",
    "                    break\n",
    "                else:\n",
    "                    print(\"Invalid selection. Please choose a number between 1 and 3.\")\n",
    "            break\n",
    "        else:\n",
    "            print(\"No results found for the given query. Check spelling and try again\")\n",
    "\n",
    "    return selected_municipality"
   ]
  },
  {
   "cell_type": "code",
   "execution_count": 12,
   "id": "931ddf35",
   "metadata": {},
   "outputs": [],
   "source": [
    "out_dir = \"\""
   ]
  },
  {
   "cell_type": "code",
   "execution_count": 13,
   "id": "379f1172",
   "metadata": {
    "scrolled": true
   },
   "outputs": [],
   "source": [
    "def save_geojson(geoquery, city: dict): # save geojson.feature.FeatureCollection to file\n",
    "    name = city['name']\n",
    "    r = city['radius']\n",
    "    s = city['shoredist']\n",
    "    filename = f'{name}_osm_query_({r},{s}).GeoJSON'\n",
    "    folder_path = f'./city files/{name}_({r},{s})'\n",
    "    \n",
    "    # if local folder f'{name}' exists, save GeoJSON locally\n",
    "    if not os.path.exists(folder_path):\n",
    "        # prompt if user wants to create a local output folder or select an output path\n",
    "        create_folder = input(f\"Folder '{name}' does not exist in 'city files' directory. Do you want to create it? (yes/no): \")\n",
    "        if create_folder.lower().startswith('y'):\n",
    "            os.makedirs(folder_path)\n",
    "            filepath = f'{folder_path}/{filename}'\n",
    "        else:\n",
    "            # open a selction screen for a filepath\n",
    "            custom_path = input(\"Please enter the desired output path: \")\n",
    "            folder_path = custom_path\n",
    "            filepath = f'{folder_path}/{filename}'\n",
    "    else:\n",
    "        filepath = f'{folder_path}/{filename}'\n",
    "        # check if f'{folder_path}/{filename}' exists and confirm overwrite\n",
    "        while os.path.exists(filepath):\n",
    "            overwrite = input(f\"'{filepath}' already exists. Overwrite? (yes/no): \")\n",
    "            if overwrite.lower().startswith('y'):\n",
    "                # delete old file\n",
    "                os.remove(filepath)\n",
    "            else:\n",
    "                new_filename = input(f\"Please choose a new filename (default: {filepath}): \")\n",
    "                new_filepath = f'{folder_path}/{new_filename.strip()}'\n",
    "                if new_filename != filename:\n",
    "                    filepath = new_filepath\n",
    "                    break\n",
    "                else:\n",
    "                    filepath = new_filepath\n",
    "                              \n",
    "    with open(filepath, 'w') as file:\n",
    "        json.dump(geoquery, file)\n",
    "    \n",
    "    print(f'OSM query output saved to {filepath}')\n",
    "    return folder_path"
   ]
  },
  {
   "cell_type": "code",
   "execution_count": 14,
   "id": "53ee0776",
   "metadata": {},
   "outputs": [],
   "source": [
    "def find_box(value, sorted_ranges):\n",
    "    iterations = len(sorted_ranges)\n",
    "    lower_bounds = []\n",
    "    upper_bounds = []\n",
    "    for rng in sorted_ranges:\n",
    "        lower_bounds.append(rng[0])\n",
    "        upper_bounds.append(rng[1])\n",
    "    for i in range(iterations):\n",
    "        if lower_bounds[i] <= value <= upper_bounds[i]:\n",
    "            return i\n",
    "        else:\n",
    "            continue\n",
    "    return None"
   ]
  },
  {
   "cell_type": "code",
   "execution_count": 15,
   "id": "468a1dcc",
   "metadata": {},
   "outputs": [],
   "source": [
    "def find_boxrange(datalist, max_bins=5):\n",
    "    datalist = sorted(datalist)\n",
    "    percents = [(i+1) * (100/max_bins) for i in range(max_bins-1)]\n",
    "    pct_edges = np.percentile(datalist, percents)\n",
    "    ranges = [[] for i in range(max_bins)]\n",
    "    ranges[0].append(min(datalist))\n",
    "    for i in range(len(pct_edges)):\n",
    "        num = pct_edges[i]\n",
    "        ranges[i].append(num+0.5)\n",
    "        ranges[i+1].append(num+0.5)\n",
    "    ranges[-1].append(max(datalist))\n",
    "    \n",
    "    return ranges"
   ]
  },
  {
   "cell_type": "code",
   "execution_count": 16,
   "id": "b2ef3139",
   "metadata": {},
   "outputs": [],
   "source": [
    "def make_binlabels(datalist, ranges: list):\n",
    "    iterations = len(ranges)\n",
    "    first_val = str(next((x for x in datalist if x > ranges[0][1]), None))\n",
    "    new_range = [[0,0,0] for i in range(iterations)]\n",
    "    for i in range(1,iterations):\n",
    "        if np.ceil(ranges[i][0])==np.floor(ranges[i][1]):\n",
    "            new_range[i]= [str(int(np.ceil(ranges[i][0])))]\n",
    "        else:\n",
    "            new_range[i][0] = str(int(next((x for x in datalist if x > ranges[i-1][1]), '-')))\n",
    "            new_range[i][1] = '-'\n",
    "            new_range[i][2] = str(int(np.floor(ranges[i][1])))\n",
    "    first_label = ''.join(['<',str(first_val)])\n",
    "    last_label = ''.join([new_range[-1][0],'+'])\n",
    "    labels = [''.join(new_range[i]) for i in range(1,iterations-1)]\n",
    "    for i in range(len(labels)):\n",
    "        labels[i] = new_range[i][0] if new_range[i][0] == new_range[i][0] else skip\n",
    "    labels.insert(0, first_label)\n",
    "    labels.append(last_label)\n",
    "\n",
    "    return labels"
   ]
  },
  {
   "cell_type": "markdown",
   "id": "e7baf318",
   "metadata": {},
   "source": [
    "## Main"
   ]
  },
  {
   "cell_type": "code",
   "execution_count": 86,
   "id": "e863cdf8",
   "metadata": {
    "scrolled": false
   },
   "outputs": [
    {
     "name": "stdout",
     "output_type": "stream",
     "text": [
      "Philippines Locality Risk Exposures\n",
      "Enter the name of target municipality in the Philippines: san isidro, zambales\n",
      "Building search radius (meters): 4000\n",
      "Maximum distance from the coast (in m): 400\n"
     ]
    },
    {
     "name": "stderr",
     "output_type": "stream",
     "text": [
      "[overpass] downloading data: [timeout:25][out:json];\n",
      "        way[\"building\"](around:4000, 15.3138425, 120.0150558)->.a; way[\"natural\" = \"coastline\"](around:4000, 15.3138425, 120.0150558)->.b; nwr.a(around.b:400); (._;>;); out ids;\n",
      "    \n"
     ]
    },
    {
     "name": "stdout",
     "output_type": "stream",
     "text": [
      "Top 3 closest results:\n"
     ]
    },
    {
     "name": "stderr",
     "output_type": "stream",
     "text": [
      "[overpass] downloading data: [timeout:25][out:json];\n",
      "        way[\"building\"](around:4000, 14.9726901, 120.1535108)->.a; way[\"natural\" = \"coastline\"](around:4000, 14.9726901, 120.1535108)->.b; nwr.a(around.b:400); (._;>;); out ids;\n",
      "    \n"
     ]
    },
    {
     "name": "stdout",
     "output_type": "stream",
     "text": [
      "Result 1:\n",
      "Display Name: San Isidro, Zambales, Central Luzon, 2201, Philippines\n",
      "Latitude: 15.3138425, Longitude: 120.0150558, Coastal Buildings: 619\n",
      "-------------------\n",
      "Result 2:\n",
      "Display Name: San Isidro, San Marcelino, Zambales, Central Luzon, 2207, Philippines\n",
      "Latitude: 14.9726901, Longitude: 120.1535108, Coastal Buildings: None\n",
      "-------------------\n",
      "Enter 0 and revise search if desired result is not shown.\n",
      "-------------------\n",
      "Matching result (1-3)): 1\n"
     ]
    }
   ],
   "source": [
    "# use 'choose_municipality' function to find desired city and output dict\n",
    "city = choose_municipality()"
   ]
  },
  {
   "cell_type": "code",
   "execution_count": 87,
   "id": "2ca7e7c2",
   "metadata": {},
   "outputs": [
    {
     "name": "stdout",
     "output_type": "stream",
     "text": [
      "Folder 'San Isidro' does not exist in 'city files' directory. Do you want to create it? (yes/no): y\n",
      "OSM query output saved to ./city files/San Isidro_(4000,400)/San Isidro_osm_query_(4000,400).GeoJSON\n"
     ]
    }
   ],
   "source": [
    "# use OSM api to download GeoJSON of relevant points of interest\n",
    "query = coastal_json(city)\n",
    "# convert GeoJSON to GeoDataFrame\n",
    "gdf = gpd.GeoDataFrame.from_features(query['features'])\n",
    "# export query output to local filepath\n",
    "out_dir = save_geojson(query, city)"
   ]
  },
  {
   "cell_type": "code",
   "execution_count": 88,
   "id": "5dfd5eb1",
   "metadata": {},
   "outputs": [
    {
     "name": "stdout",
     "output_type": "stream",
     "text": [
      "DataFrame 'blds' created with 619 buildings\n"
     ]
    }
   ],
   "source": [
    "# convert geojson data types to osm id types\n",
    "typemap = {\n",
    "    'Point' : 'Node',\n",
    "    'LineString' : 'Way',\n",
    "}\n",
    "gdf['type'] = gdf['geometry'].apply(lambda x: typemap.get(x.geom_type, None))\n",
    "\n",
    "# create new DataFrame with house footprints only\n",
    "blds = gdf[gdf['type'] == 'Way'].reset_index(drop=True).drop_duplicates()\n",
    "blds = blds[~blds['geometry'].is_empty]\n",
    "blds = blds.set_crs(epsg=4326)\n",
    "\n",
    "blds_count = len(blds)\n",
    "if blds_count == city['building_count']:\n",
    "    print(f\"DataFrame 'blds' created with {blds_count} buildings\")\n",
    "else:\n",
    "    print(f\"DataFrame 'blds' created with {blds_count} buildings, {city['building_count']} buildings expected\")"
   ]
  },
  {
   "cell_type": "code",
   "execution_count": 89,
   "id": "eb94f9e4",
   "metadata": {},
   "outputs": [],
   "source": [
    "# query OSM for nearby coastline data\n",
    "coast = coast_json(city)\n",
    "# convert to gdf\n",
    "coast_gdf = gpd.GeoDataFrame.from_features(coast['features'])\n",
    "\n",
    "coast_gdf['type'] = coast_gdf['geometry'].apply(lambda x: typemap.get(x.geom_type, None))\n",
    "\n",
    "# create new DataFrame with house footprints only\n",
    "coast_gdf = coast_gdf[coast_gdf['type'] == 'Way'].reset_index(drop=True).drop_duplicates()"
   ]
  },
  {
   "cell_type": "code",
   "execution_count": 90,
   "id": "fd1cf1a4",
   "metadata": {},
   "outputs": [],
   "source": [
    "# Define the URL for elevation data download\n",
    "elevation_data_url = \"https://data.humdata.org/dataset/d7f6e172-4433-4eb9-a96f-0524917eb11d/resource/2ca22e01-8ab7-4447-b565-653e93db55b0/download/phl_msk_alt.zip\"\n",
    "\n",
    "# Open *.grd raster file for elevation\n",
    "elevation_filename = \"PHL_msk_alt.vrt\"\n",
    "\n",
    "# Download and unzip the elevation data\n",
    "elevation_zip_path = \"elevation_data.zip\"\n",
    "# elevation_data_dir = \"PHL_msk_alt\"\n",
    "if not os.path.exists(elevation_filename):\n",
    "    download = requests.get(elevation_data_url)\n",
    "    with open(elevation_zip_path, \"wb\") as zip_file:\n",
    "        zip_file.write(download.content)\n",
    "    os.system(f\"unzip {elevation_zip_path}\")\n",
    "\n",
    "# Load elevation data using rasterio\n",
    "# elevation_file_path = os.path.join(elevation_data_dir, elevation_filename)\n",
    "elevation_data = rasterio.open(elevation_filename)"
   ]
  },
  {
   "cell_type": "code",
   "execution_count": 91,
   "id": "3811ac01",
   "metadata": {},
   "outputs": [],
   "source": [
    "# Create a function to find the closest elevation match\n",
    "def find_closest_elevation(point):\n",
    "    row, col = elevation_data.index(point.x, point.y)\n",
    "    return elevation_data.read(1, window=((row, row + 1), (col, col + 1)))[0][0]"
   ]
  },
  {
   "cell_type": "code",
   "execution_count": 92,
   "id": "3f1cce81",
   "metadata": {},
   "outputs": [
    {
     "name": "stderr",
     "output_type": "stream",
     "text": [
      "/var/folders/4m/8llr_ht12t16kp7zbdgjzmvw0000gp/T/ipykernel_95902/3232993466.py:2: UserWarning: Geometry is in a geographic CRS. Results from 'centroid' are likely incorrect. Use 'GeoSeries.to_crs()' to re-project geometries to a projected CRS before this operation.\n",
      "\n",
      "  blds['ele'] = blds['geometry'].centroid.apply(find_closest_elevation)\n"
     ]
    }
   ],
   "source": [
    "# Add 'ele' column to 'blds' GeoDataFrame with elevation data\n",
    "blds['ele'] = blds['geometry'].centroid.apply(find_closest_elevation)"
   ]
  },
  {
   "cell_type": "code",
   "execution_count": 93,
   "id": "583fc580",
   "metadata": {},
   "outputs": [],
   "source": [
    "# Add 'coordinates' column to blds GeoDataFrame according to centroid of buildings\n",
    "blds['latitude'] = blds['geometry'].apply(lambda x: round(x.centroid.y, 4))\n",
    "blds['longitude'] = blds['geometry'].apply(lambda x: round(x.centroid.x, 4))\n"
   ]
  },
  {
   "cell_type": "code",
   "execution_count": 94,
   "id": "f7133e40",
   "metadata": {
    "scrolled": false
   },
   "outputs": [],
   "source": [
    "def generate_hist(series, variable: str, units='', maxbins=5):\n",
    "    ## Add histogram to sublot\n",
    "    sort_data = sorted(series.astype(int).tolist())\n",
    "    hist_data = []\n",
    "\n",
    "    # parameters for histogram\n",
    "    bin_limit = maxbins\n",
    "    var = variable.title()\n",
    "    if units != '':\n",
    "        u = f'({units})'\n",
    "    max_val = max(sort_data)\n",
    "    min_val = min(sort_data)\n",
    "\n",
    "    bin_boxes = find_boxrange(sort_data, bin_limit)\n",
    "    bin_labels = make_binlabels(sort_data, bin_boxes)\n",
    "    for x in sort_data:\n",
    "        index = find_box(x, bin_boxes)\n",
    "        hist_data.append(bin_labels[index])\n",
    "\n",
    "    bin_count = len(set(hist_data))\n",
    "\n",
    "    # Calculate the bin width to ensure integer bins\n",
    "    #bin_width = max(1, (max_val - min_val) // bin_count)\n",
    "    c = collections.Counter(hist_data)\n",
    "    lbl = [i[0] for i in c.items()]\n",
    "    hgt = [i[1] for i in c.items()]\n",
    "\n",
    "    # Generate a histogram of building elevations\n",
    "    plt.figure(figsize=(8, 6))\n",
    "    plt.bar(lbl, hgt, color='blue', edgecolor='black', alpha=0.6)\n",
    "    plt.xlabel(f\"{var} {u}\")\n",
    "    plt.ylabel(\"Number of Buildings\")\n",
    "    plt.title(f\"Building {var} Histogram\")\n",
    "\n",
    "    # Save the histogram locally\n",
    "    histogram_image_path = f\"{out_dir}/{var}_histogram.png\"\n",
    "    plt.savefig(histogram_image_path, dpi=300, bbox_inches='tight')\n",
    "\n",
    "    # Display the charts\n",
    "    return plt.show()"
   ]
  },
  {
   "cell_type": "code",
   "execution_count": 95,
   "id": "7aa54bc6",
   "metadata": {},
   "outputs": [
    {
     "ename": "ValueError",
     "evalue": "invalid literal for int() with base 10: '-'",
     "output_type": "error",
     "traceback": [
      "\u001b[0;31m---------------------------------------------------------------------------\u001b[0m",
      "\u001b[0;31mValueError\u001b[0m                                Traceback (most recent call last)",
      "Cell \u001b[0;32mIn[95], line 1\u001b[0m\n\u001b[0;32m----> 1\u001b[0m \u001b[43mgenerate_hist\u001b[49m\u001b[43m(\u001b[49m\u001b[43mblds\u001b[49m\u001b[43m[\u001b[49m\u001b[38;5;124;43m'\u001b[39;49m\u001b[38;5;124;43mele\u001b[39;49m\u001b[38;5;124;43m'\u001b[39;49m\u001b[43m]\u001b[49m\u001b[43m,\u001b[49m\u001b[43m \u001b[49m\u001b[38;5;124;43m'\u001b[39;49m\u001b[38;5;124;43melevation\u001b[39;49m\u001b[38;5;124;43m'\u001b[39;49m\u001b[43m,\u001b[49m\u001b[43m \u001b[49m\u001b[38;5;124;43m'\u001b[39;49m\u001b[38;5;124;43mm\u001b[39;49m\u001b[38;5;124;43m'\u001b[39;49m\u001b[43m,\u001b[49m\u001b[43m \u001b[49m\u001b[38;5;241;43m10\u001b[39;49m\u001b[43m)\u001b[49m\n",
      "Cell \u001b[0;32mIn[94], line 15\u001b[0m, in \u001b[0;36mgenerate_hist\u001b[0;34m(series, variable, units, maxbins)\u001b[0m\n\u001b[1;32m     12\u001b[0m min_val \u001b[38;5;241m=\u001b[39m \u001b[38;5;28mmin\u001b[39m(sort_data)\n\u001b[1;32m     14\u001b[0m bin_boxes \u001b[38;5;241m=\u001b[39m find_boxrange(sort_data, bin_limit)\n\u001b[0;32m---> 15\u001b[0m bin_labels \u001b[38;5;241m=\u001b[39m \u001b[43mmake_binlabels\u001b[49m\u001b[43m(\u001b[49m\u001b[43msort_data\u001b[49m\u001b[43m,\u001b[49m\u001b[43m \u001b[49m\u001b[43mbin_boxes\u001b[49m\u001b[43m)\u001b[49m\n\u001b[1;32m     16\u001b[0m \u001b[38;5;28;01mfor\u001b[39;00m x \u001b[38;5;129;01min\u001b[39;00m sort_data:\n\u001b[1;32m     17\u001b[0m     index \u001b[38;5;241m=\u001b[39m find_box(x, bin_boxes)\n",
      "Cell \u001b[0;32mIn[16], line 9\u001b[0m, in \u001b[0;36mmake_binlabels\u001b[0;34m(datalist, ranges)\u001b[0m\n\u001b[1;32m      7\u001b[0m     new_range[i]\u001b[38;5;241m=\u001b[39m [\u001b[38;5;28mstr\u001b[39m(\u001b[38;5;28mint\u001b[39m(np\u001b[38;5;241m.\u001b[39mceil(ranges[i][\u001b[38;5;241m0\u001b[39m])))]\n\u001b[1;32m      8\u001b[0m \u001b[38;5;28;01melse\u001b[39;00m:\n\u001b[0;32m----> 9\u001b[0m     new_range[i][\u001b[38;5;241m0\u001b[39m] \u001b[38;5;241m=\u001b[39m \u001b[38;5;28mstr\u001b[39m(\u001b[38;5;28;43mint\u001b[39;49m\u001b[43m(\u001b[49m\u001b[38;5;28;43mnext\u001b[39;49m\u001b[43m(\u001b[49m\u001b[43m(\u001b[49m\u001b[43mx\u001b[49m\u001b[43m \u001b[49m\u001b[38;5;28;43;01mfor\u001b[39;49;00m\u001b[43m \u001b[49m\u001b[43mx\u001b[49m\u001b[43m \u001b[49m\u001b[38;5;129;43;01min\u001b[39;49;00m\u001b[43m \u001b[49m\u001b[43mdatalist\u001b[49m\u001b[43m \u001b[49m\u001b[38;5;28;43;01mif\u001b[39;49;00m\u001b[43m \u001b[49m\u001b[43mx\u001b[49m\u001b[43m \u001b[49m\u001b[38;5;241;43m>\u001b[39;49m\u001b[43m \u001b[49m\u001b[43mranges\u001b[49m\u001b[43m[\u001b[49m\u001b[43mi\u001b[49m\u001b[38;5;241;43m-\u001b[39;49m\u001b[38;5;241;43m1\u001b[39;49m\u001b[43m]\u001b[49m\u001b[43m[\u001b[49m\u001b[38;5;241;43m1\u001b[39;49m\u001b[43m]\u001b[49m\u001b[43m)\u001b[49m\u001b[43m,\u001b[49m\u001b[43m \u001b[49m\u001b[38;5;124;43m'\u001b[39;49m\u001b[38;5;124;43m-\u001b[39;49m\u001b[38;5;124;43m'\u001b[39;49m\u001b[43m)\u001b[49m\u001b[43m)\u001b[49m)\n\u001b[1;32m     10\u001b[0m     new_range[i][\u001b[38;5;241m1\u001b[39m] \u001b[38;5;241m=\u001b[39m \u001b[38;5;124m'\u001b[39m\u001b[38;5;124m-\u001b[39m\u001b[38;5;124m'\u001b[39m\n\u001b[1;32m     11\u001b[0m     new_range[i][\u001b[38;5;241m2\u001b[39m] \u001b[38;5;241m=\u001b[39m \u001b[38;5;28mstr\u001b[39m(\u001b[38;5;28mint\u001b[39m(np\u001b[38;5;241m.\u001b[39mfloor(ranges[i][\u001b[38;5;241m1\u001b[39m])))\n",
      "\u001b[0;31mValueError\u001b[0m: invalid literal for int() with base 10: '-'"
     ]
    }
   ],
   "source": [
    "generate_hist(blds['ele'], 'elevation', 'm', 10)"
   ]
  },
  {
   "cell_type": "code",
   "execution_count": 96,
   "id": "6de3f922",
   "metadata": {},
   "outputs": [
    {
     "name": "stderr",
     "output_type": "stream",
     "text": [
      "/var/folders/4m/8llr_ht12t16kp7zbdgjzmvw0000gp/T/ipykernel_95902/4128713971.py:19: MatplotlibDeprecationWarning: The get_cmap function was deprecated in Matplotlib 3.7 and will be removed two minor releases later. Use ``matplotlib.colormaps[name]`` or ``matplotlib.colormaps.get_cmap(obj)`` instead.\n",
      "  color_map = plt.cm.get_cmap('GnBu_r', len(unique_elevation_levels))\n"
     ]
    },
    {
     "data": {
      "image/png": "[encoded data removed]",
      "text/plain": [
       "<Figure size 1000x1000 with 2 Axes>"
      ]
     },
     "metadata": {},
     "output_type": "display_data"
    }
   ],
   "source": [
    "## Add shoreline map to subplots\n",
    "# Create a figure and axis with Cartopy projection\n",
    "projection = ccrs.PlateCarree()\n",
    "fig, ax = plt.subplots(subplot_kw={'projection': projection}, figsize=(10, 10))\n",
    "\n",
    "#calculate bounds based on direction of coast\n",
    "direc = east_west(city, blds)\n",
    "pad = margin_calc(direc, max=0.02)\n",
    "bounds= blds.total_bounds\n",
    "ax.set_extent([bounds[0]-pad[2], bounds[2]+pad[3], bounds[1]-pad[0], bounds[3]+pad[1]])\n",
    "\n",
    "# Read the data with a specified fill_value of 0 for ocean tiles\n",
    "elevation_levels = elevation_data.read(1, window=elevation_data.window(*bounds), masked=True)\n",
    "\n",
    "# Extract unique elevation levels\n",
    "unique_elevation_levels = list(set(elevation_levels.filled(0).flatten().tolist()))\n",
    "\n",
    "# Add contours from elevation data\n",
    "color_map = plt.cm.get_cmap('GnBu_r', len(unique_elevation_levels))\n",
    "color_map.set_bad(color='lightgray', alpha=.6)\n",
    "show(elevation_data, ax=ax, cmap=color_map, alpha=1, vmin=min(unique_elevation_levels), vmax=max(unique_elevation_levels))\n",
    "\n",
    "norm = mcolors.BoundaryNorm(boundaries=unique_elevation_levels, ncolors=color_map.N)\n",
    "\n",
    "# Create a ScalarMappable object\n",
    "sm = plt.cm.ScalarMappable(cmap=color_map, norm=norm)\n",
    "\n",
    "# Set up the colorbar with custom labels\n",
    "cbar = plt.colorbar(sm, ax=ax, ticks=unique_elevation_levels, format='%1.0f m')\n",
    "cbar.set_label('Elevation (meters above mean sea level)')\n",
    "\n",
    "# Add outlines for houses from GeoDataFrame\n",
    "blds.plot(ax=ax, edgecolor='red', linewidth=1)\n",
    "# Add coastline ways from Geodataframe\n",
    "coast_gdf.plot(ax=ax, edgecolor='black', linewidth=1)\n",
    "\n",
    "# Save the map locally\n",
    "map_image_path = f\"{out_dir}/coastal_elevation_map.png\"\n",
    "plt.savefig(map_image_path, dpi=300, bbox_inches='tight')\n",
    "\n",
    "# Display the charts\n",
    "plt.show()"
   ]
  },
  {
   "cell_type": "code",
   "execution_count": 97,
   "id": "c481a66e",
   "metadata": {
    "scrolled": true
   },
   "outputs": [
    {
     "name": "stderr",
     "output_type": "stream",
     "text": [
      "/var/folders/4m/8llr_ht12t16kp7zbdgjzmvw0000gp/T/ipykernel_95902/642120646.py:4: UserWarning: Geometry is in a geographic CRS. Results from 'area' are likely incorrect. Use 'GeoSeries.to_crs()' to re-project geometries to a projected CRS before this operation.\n",
      "\n",
      "  blds_m['sqm'] = blds['geometry'].area\n"
     ]
    }
   ],
   "source": [
    "# Change dataframe projection to a locally precise one.\n",
    "blds_m = blds.to_crs(epsg=3123)\n",
    "# New column for the area of \n",
    "blds_m['sqm'] = blds['geometry'].area"
   ]
  },
  {
   "cell_type": "code",
   "execution_count": 98,
   "id": "b7891633",
   "metadata": {},
   "outputs": [
    {
     "ename": "ValueError",
     "evalue": "invalid literal for int() with base 10: '-'",
     "output_type": "error",
     "traceback": [
      "\u001b[0;31m---------------------------------------------------------------------------\u001b[0m",
      "\u001b[0;31mValueError\u001b[0m                                Traceback (most recent call last)",
      "Cell \u001b[0;32mIn[98], line 2\u001b[0m\n\u001b[1;32m      1\u001b[0m \u001b[38;5;66;03m# view and save histogram for area of buildings\u001b[39;00m\n\u001b[0;32m----> 2\u001b[0m \u001b[43mgenerate_hist\u001b[49m\u001b[43m(\u001b[49m\u001b[43mblds_m\u001b[49m\u001b[43m[\u001b[49m\u001b[38;5;124;43m'\u001b[39;49m\u001b[38;5;124;43msqm\u001b[39;49m\u001b[38;5;124;43m'\u001b[39;49m\u001b[43m]\u001b[49m\u001b[43m,\u001b[49m\u001b[43m \u001b[49m\u001b[38;5;124;43m'\u001b[39;49m\u001b[38;5;124;43marea\u001b[39;49m\u001b[38;5;124;43m'\u001b[39;49m\u001b[43m,\u001b[49m\u001b[43m \u001b[49m\u001b[38;5;124;43m'\u001b[39;49m\u001b[38;5;124;43msq m\u001b[39;49m\u001b[38;5;124;43m'\u001b[39;49m\u001b[43m,\u001b[49m\u001b[43m \u001b[49m\u001b[38;5;241;43m8\u001b[39;49m\u001b[43m)\u001b[49m\n",
      "Cell \u001b[0;32mIn[94], line 15\u001b[0m, in \u001b[0;36mgenerate_hist\u001b[0;34m(series, variable, units, maxbins)\u001b[0m\n\u001b[1;32m     12\u001b[0m min_val \u001b[38;5;241m=\u001b[39m \u001b[38;5;28mmin\u001b[39m(sort_data)\n\u001b[1;32m     14\u001b[0m bin_boxes \u001b[38;5;241m=\u001b[39m find_boxrange(sort_data, bin_limit)\n\u001b[0;32m---> 15\u001b[0m bin_labels \u001b[38;5;241m=\u001b[39m \u001b[43mmake_binlabels\u001b[49m\u001b[43m(\u001b[49m\u001b[43msort_data\u001b[49m\u001b[43m,\u001b[49m\u001b[43m \u001b[49m\u001b[43mbin_boxes\u001b[49m\u001b[43m)\u001b[49m\n\u001b[1;32m     16\u001b[0m \u001b[38;5;28;01mfor\u001b[39;00m x \u001b[38;5;129;01min\u001b[39;00m sort_data:\n\u001b[1;32m     17\u001b[0m     index \u001b[38;5;241m=\u001b[39m find_box(x, bin_boxes)\n",
      "Cell \u001b[0;32mIn[16], line 9\u001b[0m, in \u001b[0;36mmake_binlabels\u001b[0;34m(datalist, ranges)\u001b[0m\n\u001b[1;32m      7\u001b[0m     new_range[i]\u001b[38;5;241m=\u001b[39m [\u001b[38;5;28mstr\u001b[39m(\u001b[38;5;28mint\u001b[39m(np\u001b[38;5;241m.\u001b[39mceil(ranges[i][\u001b[38;5;241m0\u001b[39m])))]\n\u001b[1;32m      8\u001b[0m \u001b[38;5;28;01melse\u001b[39;00m:\n\u001b[0;32m----> 9\u001b[0m     new_range[i][\u001b[38;5;241m0\u001b[39m] \u001b[38;5;241m=\u001b[39m \u001b[38;5;28mstr\u001b[39m(\u001b[38;5;28;43mint\u001b[39;49m\u001b[43m(\u001b[49m\u001b[38;5;28;43mnext\u001b[39;49m\u001b[43m(\u001b[49m\u001b[43m(\u001b[49m\u001b[43mx\u001b[49m\u001b[43m \u001b[49m\u001b[38;5;28;43;01mfor\u001b[39;49;00m\u001b[43m \u001b[49m\u001b[43mx\u001b[49m\u001b[43m \u001b[49m\u001b[38;5;129;43;01min\u001b[39;49;00m\u001b[43m \u001b[49m\u001b[43mdatalist\u001b[49m\u001b[43m \u001b[49m\u001b[38;5;28;43;01mif\u001b[39;49;00m\u001b[43m \u001b[49m\u001b[43mx\u001b[49m\u001b[43m \u001b[49m\u001b[38;5;241;43m>\u001b[39;49m\u001b[43m \u001b[49m\u001b[43mranges\u001b[49m\u001b[43m[\u001b[49m\u001b[43mi\u001b[49m\u001b[38;5;241;43m-\u001b[39;49m\u001b[38;5;241;43m1\u001b[39;49m\u001b[43m]\u001b[49m\u001b[43m[\u001b[49m\u001b[38;5;241;43m1\u001b[39;49m\u001b[43m]\u001b[49m\u001b[43m)\u001b[49m\u001b[43m,\u001b[49m\u001b[43m \u001b[49m\u001b[38;5;124;43m'\u001b[39;49m\u001b[38;5;124;43m-\u001b[39;49m\u001b[38;5;124;43m'\u001b[39;49m\u001b[43m)\u001b[49m\u001b[43m)\u001b[49m)\n\u001b[1;32m     10\u001b[0m     new_range[i][\u001b[38;5;241m1\u001b[39m] \u001b[38;5;241m=\u001b[39m \u001b[38;5;124m'\u001b[39m\u001b[38;5;124m-\u001b[39m\u001b[38;5;124m'\u001b[39m\n\u001b[1;32m     11\u001b[0m     new_range[i][\u001b[38;5;241m2\u001b[39m] \u001b[38;5;241m=\u001b[39m \u001b[38;5;28mstr\u001b[39m(\u001b[38;5;28mint\u001b[39m(np\u001b[38;5;241m.\u001b[39mfloor(ranges[i][\u001b[38;5;241m1\u001b[39m])))\n",
      "\u001b[0;31mValueError\u001b[0m: invalid literal for int() with base 10: '-'"
     ]
    }
   ],
   "source": [
    "# view and save histogram for area of buildings\n",
    "generate_hist(blds_m['sqm'], 'area', 'sq m', 8)"
   ]
  },
  {
   "cell_type": "code",
   "execution_count": 99,
   "id": "7894c581",
   "metadata": {},
   "outputs": [],
   "source": [
    "# import municipality level data for construction materials\n",
    "mcpl_fn = 'PSA_20_Cns_Mun_Mat.csv'\n",
    "psa = pd.read_csv(mcpl_fn).iloc[:,2:]"
   ]
  },
  {
   "cell_type": "code",
   "execution_count": 100,
   "id": "3d6ab92f",
   "metadata": {},
   "outputs": [],
   "source": [
    "def citymatch(city, df):\n",
    "    name = city['display_name']\n",
    "    bbox = [float(x) for x in city['boundingbox']]\n",
    "    df['disp'] = df.apply(lambda x: ','.join([str(x['Municipality']), str(x['Region'])]), axis=1)\n",
    "    \n",
    "    # Find all rows in df for which df['Latitude'] and df['Longitude'] are within the bounding box\n",
    "    #df_boxed = df[(bbox[0] <= df['Latitude']) & (df['Latitude'] <= bbox[1]) & \n",
    "    #              (bbox[2] <= df['Longitude']) & (df['Longitude'] >= bbox[3])]\n",
    "    \n",
    "    # Use fuzzywuzzy to match 'name' to the df_boxed['Municipalities'] column\n",
    "    df['MatchScore'] = df['disp'].apply(lambda x: fuzz.token_sort_ratio(name, x))\n",
    "    \n",
    "    # Get the row with the highest matching score\n",
    "    best_match = df[df['MatchScore'] == df['MatchScore'].max()]\n",
    "    \n",
    "    return best_match"
   ]
  },
  {
   "cell_type": "code",
   "execution_count": 101,
   "id": "800ac205",
   "metadata": {},
   "outputs": [],
   "source": [
    "matdf = citymatch(city, psa)\n",
    "name = city['name']\n",
    "matdf.to_csv(f'{out_dir}/{name}_constr_materials.csv')"
   ]
  },
  {
   "cell_type": "code",
   "execution_count": 102,
   "id": "9fe90eaf",
   "metadata": {},
   "outputs": [
    {
     "data": {
      "image/png": "[encoded data removed]",
      "text/plain": [
       "<Figure size 800x600 with 1 Axes>"
      ]
     },
     "metadata": {},
     "output_type": "display_data"
    }
   ],
   "source": [
    "var = 'Construction Materials'\n",
    "\n",
    "# create lists from the 'Materials Categories' and 'Total Occupied Housing Units' columns of matdf for a bar chart by sorting in descending order by the 'Total Occupied Housing Units' column and aggregating units for matching 'Material Categories' column and dropping any na values. \n",
    "subdf = matdf.dropna(subset=['Total Occupied Housing Units'])\n",
    "lbl = subdf[subdf['Material Categories'] != 'Total'].sort_values(by='Total Occupied Housing Units', ascending=True)['Material Categories'].tolist()\n",
    "hgt = subdf[subdf['Material Categories'] != 'Total'].sort_values(by='Total Occupied Housing Units', ascending=True)['Total Occupied Housing Units'].tolist()\n",
    "\n",
    "# Generate a histogram of building elevations\n",
    "plt.figure(figsize=(8, 6))\n",
    "plt.barh(lbl, hgt, color='blue', edgecolor='black', alpha=0.6)\n",
    "plt.ylabel(f\"{var}\")\n",
    "plt.xlabel(\"Number of Buildings\")\n",
    "plt.title(f\"{var} in {name}\")\n",
    "\n",
    "# Save the histogram locally\n",
    "histogram_image_path = f\"{out_dir}/{name}_{var}_histogram.png\"\n",
    "plt.savefig(histogram_image_path, dpi=300, bbox_inches='tight')\n",
    "\n",
    "# Display the charts \n",
    "plt.show()"
   ]
  },
  {
   "cell_type": "code",
   "execution_count": 103,
   "id": "19505427",
   "metadata": {},
   "outputs": [],
   "source": [
    "def assign_material(citydf, buildingsdf):\n",
    "    # create a series with \n",
    "    count=len(buildingsdf)\n",
    "    \n",
    "    # ensure that building counts are not null\n",
    "    df = citydf[psa['Construction Materials'] != 'Total']\n",
    "    df['Total Occupied Housing Units'] = df['Total Occupied Housing Units'].fillna(0)\n",
    "    \n",
    "    # calculate probabilities for materials distributions\n",
    "    total = df['Total Occupied Housing Units'].sum()\n",
    "    probs = [units / total for units in df[\"Total Occupied Housing Units\"]]\n",
    "    \n",
    "    mat_series = [np.random.choice(df['Material Categories'], p=probs) for i in range(count)]\n",
    "    return mat_series\n",
    "\n",
    "def assign_roof(citydf, buildingsdf):\n",
    "    # check if buildingsdf['material'] exists\n",
    "    if 'material' not in buildingsdf.columns:\n",
    "        print(\"DataFrame['material'] does not exist. Please run assign_material first.\")\n",
    "        return\n",
    "    \n",
    "    # Ensure no null values\n",
    "    citydf = citydf.fillna(0)\n",
    "    \n",
    "    # Group by 'Material Categories' and sum numerical values\n",
    "    citydf = citydf.groupby('Material Categories').sum()\n",
    "    \n",
    "    roof_materials = ['Roof: Galvanized iron/aluminum',\n",
    "       'Roof: Tile/concrete/clay tile',\n",
    "       'Roof: Half galvanized iron and half concrete',\n",
    "       'Roof: Bamboo/cogon/ nipa/anahaw', 'Roof: Asbestos',\n",
    "       'Roof:Makeshift/ salvaged/ improvised materials', 'Roof:Trapal',\n",
    "       'Roof: Others', 'Roof: Not Reported']\n",
    "    \n",
    "    # Assign probabilities to each roof material depending on construction material\n",
    "    for idx, row in citydf.iterrows():\n",
    "        total = row['Total Occupied Housing Units']\n",
    "        if total != 0:\n",
    "            for mat in roof_materials:\n",
    "                row[mat] /= total\n",
    "        else:\n",
    "            for mat in roof_materials:\n",
    "                row[mat] =0\n",
    "    for idx, row in buildingsdf.iterrows():\n",
    "        x = row['material']\n",
    "        c = np.random.multinomial(1, citydf.loc[x][roof_materials]).argmax()\n",
    "        row['roof material'] = citydf.loc[x][roof_materials[c]]\n",
    "    \n",
    "    return buildingsdf"
   ]
  },
  {
   "cell_type": "code",
   "execution_count": 104,
   "id": "6395ceb0",
   "metadata": {},
   "outputs": [
    {
     "name": "stderr",
     "output_type": "stream",
     "text": [
      "/var/folders/4m/8llr_ht12t16kp7zbdgjzmvw0000gp/T/ipykernel_95902/2073479143.py:6: UserWarning: Boolean Series key will be reindexed to match DataFrame index.\n",
      "  df = citydf[psa['Construction Materials'] != 'Total']\n",
      "/var/folders/4m/8llr_ht12t16kp7zbdgjzmvw0000gp/T/ipykernel_95902/2073479143.py:7: SettingWithCopyWarning: \n",
      "A value is trying to be set on a copy of a slice from a DataFrame.\n",
      "Try using .loc[row_indexer,col_indexer] = value instead\n",
      "\n",
      "See the caveats in the documentation: https://pandas.pydata.org/pandas-docs/stable/user_guide/indexing.html#returning-a-view-versus-a-copy\n",
      "  df['Total Occupied Housing Units'] = df['Total Occupied Housing Units'].fillna(0)\n"
     ]
    }
   ],
   "source": [
    "blds['material'] = assign_material(matdf, blds)"
   ]
  },
  {
   "cell_type": "code",
   "execution_count": 105,
   "id": "d5e8d031",
   "metadata": {},
   "outputs": [],
   "source": [
    "# roof material assignment not working due to rounding errors with numpy.random\n",
    "# blds = assign_roof(matdf, blds)"
   ]
  },
  {
   "cell_type": "markdown",
   "id": "da54abc2",
   "metadata": {},
   "source": [
    "#### note: visualisation below is random assignment of materials to building database and not to be used for statistical analysis."
   ]
  },
  {
   "cell_type": "code",
   "execution_count": 106,
   "id": "ee7bfddc",
   "metadata": {},
   "outputs": [
    {
     "data": {
      "image/png": "[encoded data removed]",
      "text/plain": [
       "<Figure size 1000x1000 with 1 Axes>"
      ]
     },
     "metadata": {},
     "output_type": "display_data"
    }
   ],
   "source": [
    "# map of buildings with possible illustration of materials\n",
    "\n",
    "name = city['name']\n",
    "\n",
    "# Create a figure and axis with Cartopy projection\n",
    "projection = ccrs.PlateCarree()\n",
    "fig, ax = plt.subplots(subplot_kw={'projection': projection}, figsize=(10, 10))\n",
    "\n",
    "#calculate bounds based on direction of coast\n",
    "direc = east_west(city, blds)\n",
    "pad = margin_calc(direc, max=0.01)\n",
    "bounds= blds.total_bounds\n",
    "ax.set_extent([bounds[0]-pad[2], bounds[2]+pad[3], bounds[1]-pad[0], bounds[3]+pad[1]])\n",
    "\n",
    "colormap = {'Concrete': 'blue',\n",
    "            'Wood': 'green',\n",
    "            'Mixed': 'red',\n",
    "            'Traditional': 'orange',\n",
    "            'Others': 'gray',\n",
    "            'Makeshift/none': 'gray',\n",
    "            'Metal': 'gray',\n",
    "            'Mixed': 'red',\n",
    "            'Not reported': 'gray',\n",
    "            'Others': 'gray',\n",
    "            'Total': 'gray',\n",
    "           }\n",
    "shortmap = {'Concrete': 'blue',\n",
    "            'Wood': 'green',\n",
    "            'Mixed': 'red',\n",
    "            'Traditional': 'orange',\n",
    "            'Others': 'gray',\n",
    "           }\n",
    "\n",
    "# Add outlines for houses from GeoDataFrame\n",
    "blds.plot(ax=ax, edgecolor=blds['material'].map(colormap), linewidth=1)\n",
    "# Add coastline ways from Geodataframe\n",
    "coast_gdf.plot(ax=ax, edgecolor='black', linewidth=1)\n",
    "\n",
    "plt.title(f\"Possible distribution of coastal buildings in {name}\")\n",
    "plt.legend(handles=[plt.Line2D([0], [0], marker='s', color='w', label=label, markerfacecolor=color, markersize=10) for label, color in shortmap.items()], \n",
    "           bbox_to_anchor=(1.05, 1), loc='upper left')\n",
    "\n",
    "# Save the map locally\n",
    "map_image_path = f\"{out_dir}/coastal_materials_map.png\"\n",
    "plt.savefig(map_image_path, dpi=300, bbox_inches='tight')\n",
    "\n",
    "# Display the charts\n",
    "plt.show()"
   ]
  },
  {
   "cell_type": "code",
   "execution_count": null,
   "id": "7e14823f",
   "metadata": {},
   "outputs": [],
   "source": []
  }
 ],
 "metadata": {
  "kernelspec": {
   "display_name": "Python 3 (ipykernel)",
   "language": "python",
   "name": "python3"
  },
  "language_info": {
   "codemirror_mode": {
    "name": "ipython",
    "version": 3
   },
   "file_extension": ".py",
   "mimetype": "text/x-python",
   "name": "python",
   "nbconvert_exporter": "python",
   "pygments_lexer": "ipython3",
   "version": "3.11.4"
  }
 },
 "nbformat": 4,
 "nbformat_minor": 5
}
